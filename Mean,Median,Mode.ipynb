{
 "cells": [
  {
   "cell_type": "markdown",
   "metadata": {},
   "source": [
    "## Mean and Median"
   ]
  },
  {
   "cell_type": "code",
   "execution_count": 2,
   "metadata": {},
   "outputs": [],
   "source": [
    "import numpy as np"
   ]
  },
  {
   "cell_type": "code",
   "execution_count": 4,
   "metadata": {},
   "outputs": [
    {
     "data": {
      "text/plain": [
       "27017.251278420794"
      ]
     },
     "execution_count": 4,
     "metadata": {},
     "output_type": "execute_result"
    }
   ],
   "source": [
    "incomes=np.random.normal(27000,15000,10000)\n",
    "np.mean(incomes)"
   ]
  },
  {
   "cell_type": "code",
   "execution_count": 9,
   "metadata": {},
   "outputs": [
    {
     "data": {
      "image/png": "[encoded data removed]",
      "text/plain": [
       "<matplotlib.figure.Figure at 0x10a7ed2e8>"
      ]
     },
     "metadata": {},
     "output_type": "display_data"
    }
   ],
   "source": [
    "import matplotlib.pyplot as plt\n",
    "plt.hist(incomes,50)\n",
    "plt.show()"
   ]
  },
  {
   "cell_type": "code",
   "execution_count": 10,
   "metadata": {},
   "outputs": [
    {
     "data": {
      "text/plain": [
       "26910.660264762024"
      ]
     },
     "execution_count": 10,
     "metadata": {},
     "output_type": "execute_result"
    }
   ],
   "source": [
    "np.median(incomes)"
   ]
  },
  {
   "cell_type": "code",
   "execution_count": 11,
   "metadata": {},
   "outputs": [],
   "source": [
    "incomes=np.append(incomes,[100000000])"
   ]
  },
  {
   "cell_type": "code",
   "execution_count": 12,
   "metadata": {},
   "outputs": [
    {
     "data": {
      "text/plain": [
       "26910.827651533342"
      ]
     },
     "execution_count": 12,
     "metadata": {},
     "output_type": "execute_result"
    }
   ],
   "source": [
    "np.median(incomes)"
   ]
  },
  {
   "cell_type": "code",
   "execution_count": 13,
   "metadata": {},
   "outputs": [
    {
     "data": {
      "text/plain": [
       "37013.54992342845"
      ]
     },
     "execution_count": 13,
     "metadata": {},
     "output_type": "execute_result"
    }
   ],
   "source": [
    "np.mean(incomes)"
   ]
  },
  {
   "cell_type": "markdown",
   "metadata": {},
   "source": [
    "## Mode"
   ]
  },
  {
   "cell_type": "code",
   "execution_count": 15,
   "metadata": {},
   "outputs": [
    {
     "data": {
      "text/plain": [
       "array([37, 52, 47, 76, 67, 79, 22, 54, 32, 21, 39, 56, 22, 76, 89, 73, 68,\n",
       "       41, 41, 33, 81, 20, 63, 37, 51, 35, 58, 55, 75, 22, 49, 42, 72, 57,\n",
       "       85, 76, 41, 36, 53, 39, 51, 24, 42, 76, 36, 89, 31, 30, 38, 71, 41,\n",
       "       56, 73, 23, 49, 56, 69, 70, 50, 63, 23, 51, 81, 89, 77, 51, 61, 80,\n",
       "       38, 81, 36, 75, 27, 60, 72, 73, 30, 72, 69, 70, 81, 50, 37, 32, 38,\n",
       "       53, 71, 42, 76, 28, 29, 49, 66, 58, 71, 50, 46, 68, 43, 50, 54, 77,\n",
       "       60, 56, 48, 78, 86, 52, 23, 27, 44, 63, 64, 54, 87, 86, 64, 19, 88,\n",
       "       70, 72, 82, 25, 42, 20, 52, 34, 46, 67, 24, 57, 52, 60, 38, 50, 26,\n",
       "       31, 26, 42, 58, 48, 19, 82, 23, 28, 65, 31, 23, 56, 31, 60, 27, 62,\n",
       "       59, 53, 32, 66, 41, 63, 57, 26, 42, 85, 19, 37, 56, 35, 38, 50, 69,\n",
       "       25, 72, 35, 36, 55, 36, 59, 71, 22, 85, 75, 20, 29, 32, 46, 67, 60,\n",
       "       51, 80, 24, 89, 58, 30, 61, 22, 61, 81, 28, 20, 62, 77, 84, 89, 19,\n",
       "       73, 40, 32, 88, 69, 53, 68, 74, 24, 73, 48, 43, 63, 48, 37, 82, 62,\n",
       "       75, 59, 44, 58, 80, 45, 54, 51, 41, 28, 80, 62, 36, 79, 22, 54, 66,\n",
       "       86, 50, 64, 45, 43, 78, 79, 64, 20, 34, 42, 73, 66, 39, 67, 65, 65,\n",
       "       88, 78, 66, 69, 83, 53, 66, 65, 41, 31, 89, 32, 53, 50, 50, 79, 68,\n",
       "       20, 43, 29, 20, 69, 52, 47, 64, 20, 40, 77, 18, 42, 29, 44, 54, 62,\n",
       "       60, 46, 89, 48, 29, 68, 23, 59, 74, 83, 31, 40, 19, 30, 56, 46, 84,\n",
       "       39, 70, 75, 37, 80, 37, 84, 81, 54, 23, 61, 23, 68, 83, 82, 42, 89,\n",
       "       78, 56, 38, 50, 73, 23, 24, 19, 85, 56, 74, 18, 55, 71, 55, 47, 22,\n",
       "       71, 48, 88, 53, 69, 39, 65, 56, 87, 25, 74, 32, 57, 32, 32, 44, 26,\n",
       "       30, 20, 31, 77, 21, 59, 63, 78, 80, 23, 37, 30, 43, 42, 18, 85, 71,\n",
       "       56, 34, 87, 51, 55, 56, 43, 74, 83, 44, 70, 68, 20, 79, 65, 40, 57,\n",
       "       69, 36, 40, 76, 43, 20, 18, 66, 65, 81, 18, 54, 32, 63, 49, 58, 44,\n",
       "       75, 73, 57, 48, 85, 41, 56, 63, 55, 81, 36, 51, 59, 38, 54, 34, 78,\n",
       "       58, 50, 77, 58, 74, 85, 47, 35, 73, 64, 59, 33, 57, 30, 21, 34, 77,\n",
       "       53, 20, 63, 37, 38, 71, 53, 77, 59, 18, 59, 30, 67, 79, 21, 18, 55,\n",
       "       50, 67, 45, 31, 64, 28, 45, 89, 38, 57, 57, 30, 72, 64, 60, 70, 69,\n",
       "       48, 20, 85, 52, 50, 45, 37, 70, 39, 38, 88, 52, 65, 18, 86, 53, 49,\n",
       "       59, 42, 68, 21, 71, 64, 59])"
      ]
     },
     "execution_count": 15,
     "metadata": {},
     "output_type": "execute_result"
    }
   ],
   "source": [
    "ages=np.random.randint(18,high=90,size=500)\n",
    "ages"
   ]
  },
  {
   "cell_type": "code",
   "execution_count": 16,
   "metadata": {},
   "outputs": [
    {
     "ename": "AttributeError",
     "evalue": "module 'numpy' has no attribute 'mode'",
     "output_type": "error",
     "traceback": [
      "\u001b[0;31m---------------------------------------------------------------------------\u001b[0m",
      "\u001b[0;31mAttributeError\u001b[0m                            Traceback (most recent call last)",
      "\u001b[0;32m<ipython-input-16-35a6365eacd2>\u001b[0m in \u001b[0;36m<module>\u001b[0;34m()\u001b[0m\n\u001b[0;32m----> 1\u001b[0;31m \u001b[0mnp\u001b[0m\u001b[0;34m.\u001b[0m\u001b[0mmode\u001b[0m\u001b[0;34m(\u001b[0m\u001b[0mincomes\u001b[0m\u001b[0;34m)\u001b[0m\u001b[0;34m\u001b[0m\u001b[0m\n\u001b[0m",
      "\u001b[0;31mAttributeError\u001b[0m: module 'numpy' has no attribute 'mode'"
     ]
    }
   ],
   "source": [
    "from scipy import st"
   ]
  },
  {
   "cell_type": "code",
   "execution_count": null,
   "metadata": {},
   "outputs": [],
   "source": []
  }
 ],
 "metadata": {
  "kernelspec": {
   "display_name": "Python 3",
   "language": "python",
   "name": "python3"
  },
  "language_info": {
   "codemirror_mode": {
    "name": "ipython",
    "version": 3
   },
   "file_extension": ".py",
   "mimetype": "text/x-python",
   "name": "python",
   "nbconvert_exporter": "python",
   "pygments_lexer": "ipython3",
   "version": "3.6.6"
  }
 },
 "nbformat": 4,
 "nbformat_minor": 2
}
