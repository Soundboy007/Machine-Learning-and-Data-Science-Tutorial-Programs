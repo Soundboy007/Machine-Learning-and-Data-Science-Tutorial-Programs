{
 "cells": [
  {
   "cell_type": "code",
   "execution_count": 1,
   "metadata": {},
   "outputs": [],
   "source": [
    "import pandas as pd\n",
    "import numpy as np\n",
    "import matplotlib.pyplot as plt\n",
    "from sklearn import linear_model\n",
    "from math import radians,cos,sqrt"
   ]
  },
  {
   "cell_type": "code",
   "execution_count": 2,
   "metadata": {},
   "outputs": [],
   "source": [
    "df = pd.read_csv(\"Arrest_Data_from_2010_to_Present.csv\")"
   ]
  },
  {
   "cell_type": "code",
   "execution_count": 3,
   "metadata": {},
   "outputs": [],
   "source": [
    "#considering data only prior to Jan 1, 2019\n",
    "df[\"arrest_year\"] = df['Arrest Date'].str[-4:]\n",
    "df['arrest_month'] = df['Arrest Date'].str[:2]\n",
    "df['arrest_day'] = df['Arrest Date'].str[3:5]\n",
    "df = df[df.arrest_year != '2019']"
   ]
  },
  {
   "cell_type": "code",
   "execution_count": 4,
   "metadata": {},
   "outputs": [
    {
     "data": {
      "text/plain": [
       "2010    162416\n",
       "2011    157638\n",
       "2012    163313\n",
       "2013    152673\n",
       "2014    139380\n",
       "2015    126154\n",
       "2016    118125\n",
       "2017    107651\n",
       "2018    104277\n",
       "Name: Arrest Date, dtype: int64"
      ]
     },
     "execution_count": 4,
     "metadata": {},
     "output_type": "execute_result"
    }
   ],
   "source": [
    "#How many bookings of arrestees were made in 2018?\n",
    "df['Arrest Date'].str[-4:].value_counts(dropna=False).sort_index()"
   ]
  },
  {
   "cell_type": "code",
   "execution_count": 5,
   "metadata": {},
   "outputs": [
    {
     "data": {
      "text/plain": [
       "10951"
      ]
     },
     "execution_count": 5,
     "metadata": {},
     "output_type": "execute_result"
    }
   ],
   "source": [
    "#How many bookings of arrestees were made in the area with the most arrests in 2018?\n",
    "df[df['arrest_year'] == '2018']['Area ID'].value_counts(dropna=False).values[0]"
   ]
  },
  {
   "cell_type": "code",
   "execution_count": 6,
   "metadata": {},
   "outputs": [
    {
     "data": {
      "text/plain": [
       "52.0"
      ]
     },
     "execution_count": 6,
     "metadata": {},
     "output_type": "execute_result"
    }
   ],
   "source": [
    "#What is the 95% quantile of the age of the arrestee in 2018?\n",
    "df_2018 = df[df.arrest_year == '2018']\n",
    "df_RBVR = df_2018[df_2018['Charge Group Description'].str.contains('Robbery|Burglary|Vehicle Theft|Receive Stolen Property', na=False)]\n",
    "np.percentile(df_RBVR['Age'], 95)"
   ]
  },
  {
   "cell_type": "code",
   "execution_count": 7,
   "metadata": {},
   "outputs": [
    {
     "data": {
      "text/plain": [
       "2.171748157656722"
      ]
     },
     "execution_count": 7,
     "metadata": {},
     "output_type": "execute_result"
    }
   ],
   "source": [
    "#Report the largest absolute value among the calculated Z-scores\n",
    "df_zscore = df_2018[~(df_2018['Charge Group Description'].str.contains('Pre-Delinquency|Non-Criminal Detention', na=False))]\n",
    "df_zscore = df_zscore[df_zscore['Charge Group Description'].notnull()]\n",
    "\n",
    "charge_groups = df_zscore['Charge Group Code'].value_counts(dropna = False).sort_index().index\n",
    "\n",
    "charge_age = []\n",
    "for i in range(1 , len(charge_groups)+1):\n",
    "    charge_age.append(np.mean(df_zscore[df_zscore['Charge Group Code'] == i].Age))\n",
    "\n",
    "res = [abs(x-np.mean(charge_age))/np.std(charge_age) for x in charge_age]\n",
    "res.sort(reverse=True)\n",
    "res[0]"
   ]
  },
  {
   "cell_type": "code",
   "execution_count": 8,
   "metadata": {},
   "outputs": [
    {
     "data": {
      "image/png": "[encoded data removed]",
      "text/plain": [
       "<Figure size 432x288 with 1 Axes>"
      ]
     },
     "metadata": {
      "needs_background": "light"
     },
     "output_type": "display_data"
    },
    {
     "name": "stdout",
     "output_type": "stream",
     "text": [
      "Predicted number of arrests in 2019: 95229.7777777724\n"
     ]
    }
   ],
   "source": [
    "#What is the projected number of felony arrests in 2019?\n",
    "arrest_counts = df['arrest_year'].value_counts(dropna=False).sort_index()\n",
    "years = arrest_counts.index.astype(int)\n",
    "counts = arrest_counts.values.astype(int)\n",
    "\n",
    "data = {'Years':years, 'Counts':counts}\n",
    "df_arrests = pd.DataFrame(data)\n",
    "\n",
    "x=data['Years']\n",
    "y=data['Counts']\n",
    "plt.scatter(x,y)\n",
    "m = np.poly1d(np.polyfit(x, y, 1))\n",
    "plt.plot(x,m(x),\"g--\")\n",
    "plt.xlabel('Year')\n",
    "plt.ylabel('No. of arrests in LA')\n",
    "\n",
    "plt.show()\n",
    "\n",
    "print('Predicted number of arrests in 2019: ' + str(m[1]*2019 + m[0]))"
   ]
  },
  {
   "cell_type": "code",
   "execution_count": 9,
   "metadata": {},
   "outputs": [
    {
     "data": {
      "text/plain": [
       "11494"
      ]
     },
     "execution_count": 9,
     "metadata": {},
     "output_type": "execute_result"
    }
   ],
   "source": [
    "#How many arrest incidents occurred within 2 km from the Bradbury Building in 2018? Use (34.050536, -118.247861) for the coordinates of the Bradbury Building\n",
    "def distance_checker(m):\n",
    "    m = m[1:-2].split(', ')\n",
    "    m = [ float(x) for x in m ]\n",
    "    lat1 = radians(34.050536)\n",
    "    lon1 = radians(-118.247861)\n",
    "    lat2 = radians(m[0])\n",
    "    lon2 = radians(m[1])\n",
    "    \n",
    "    R = 6371  #radius of the earth in km\n",
    "    x = (lon2 - lon1) * cos( 0.5*(lat2+lat1) )\n",
    "    y = lat2 - lat1\n",
    "    d = R * sqrt( x*x + y*y )\n",
    "    \n",
    "    if d < 2:\n",
    "        return d\n",
    "\n",
    "df_2018[df_2018.Location.apply(distance_checker)<2].shape[0]"
   ]
  },
  {
   "cell_type": "code",
   "execution_count": 10,
   "metadata": {},
   "outputs": [
    {
     "name": "stdout",
     "output_type": "stream",
     "text": [
      "Furthest cordinates in Pico Boulevard are: (34.0281, -118.453) and (34.0188, -118.2159) with distance: 21.875430097186925 km\n",
      "Number of arrest incidents per kilometer on Pico Boulevard in 2018: 27.656599084550116\n"
     ]
    }
   ],
   "source": [
    "#How many arrest incidents were made per kilometer on Pico Boulevard during 2018?\n",
    "temploc = df_2018['Location'].values\n",
    "ReportID = df_2018['Report ID'].values\n",
    "latitude = []\n",
    "longitude = []\n",
    "for i in temploc:\n",
    "    latitude.append(float(i[1:i.index(', ')]))\n",
    "    longitude.append(float(i[i.index(', ')+2:-1]))\n",
    "\n",
    "latlong = {'Report ID': ReportID, 'latitude':latitude, 'longitude':longitude}\n",
    "df_latlong = pd.DataFrame(latlong)\n",
    "#df_2018_temp = df_2018\n",
    "df_2018 = pd.merge(left=df_latlong, right=df_2018, on=None, left_on='Report ID', right_on='Report ID')\n",
    "\n",
    "def pico(x):\n",
    "    if 'PICO' in x.upper():\n",
    "        return x\n",
    "\n",
    "df_pico = df_2018[df_2018.Address.apply(pico).notnull()]\n",
    "df_pico.head()\n",
    "\n",
    "minlat = np.mean(df_pico.latitude)- 2*np.std(df_pico.latitude)\n",
    "maxlat = np.mean(df_pico.latitude)+ 2*np.std(df_pico.latitude)\n",
    "minlong = np.mean(df_pico.longitude)- 2*np.std(df_pico.longitude)\n",
    "maxlong = np.mean(df_pico.longitude)+ 2*np.std(df_pico.longitude)\n",
    "\n",
    "df_pico = df_pico[df_pico.latitude>minlat]\n",
    "df_pico = df_pico[df_pico.latitude<maxlat]\n",
    "df_pico = df_pico[df_pico.longitude>minlong]\n",
    "df_pico = df_pico[df_pico.longitude<maxlong]\n",
    "\n",
    "latitude = df_pico['latitude'].values\n",
    "longitude = df_pico['longitude'].values\n",
    "\n",
    "def distance(m1, m2, n1, n2):\n",
    "    lat1 = radians(m1)\n",
    "    lon1 = radians(m2)\n",
    "    lat2 = radians(n1)\n",
    "    lon2 = radians(n2)\n",
    "    \n",
    "    R = 6371  #radius of the earth in km\n",
    "    x = (lon2 - lon1) * cos( 0.5*(lat2+lat1) )\n",
    "    y = lat2 - lat1\n",
    "    d = R * sqrt( x*x + y*y )\n",
    "    \n",
    "    return d\n",
    "\n",
    "def max_distance():\n",
    "    k = 0\n",
    "    cordinates = [0,0,0,0]\n",
    "    for i in range(len(latitude)):\n",
    "        for j in range(i + 1, len(latitude)):\n",
    "            if (latitude[i]!=0 and longitude[i]!=0 and latitude[j]!=0 and longitude[j]!=0):\n",
    "                h = distance(latitude[i], longitude[i], latitude[j], longitude[j])\n",
    "                if h > k:\n",
    "                    k = h \n",
    "                    cordinates = [latitude[i], longitude[i], latitude[j], longitude[j]]\n",
    "                    \n",
    "    return k, cordinates\n",
    "\n",
    "k, cordinates = max_distance()\n",
    "print('Furthest cordinates in Pico Boulevard are: (' + str(cordinates[0]) + ', ' + str(cordinates[1]) + ') and (' + str(cordinates[2]) + ', ' + str(cordinates[3]) + ') with distance: ' + str(k) + ' km')\n",
    "print('Number of arrest incidents per kilometer on Pico Boulevard in 2018: ' + str(df_pico.shape[0]/k))"
   ]
  },
  {
   "cell_type": "code",
   "execution_count": 11,
   "metadata": {
    "scrolled": false
   },
   "outputs": [
    {
     "data": {
      "text/plain": [
       "3.515076379865202"
      ]
     },
     "execution_count": 11,
     "metadata": {},
     "output_type": "execute_result"
    }
   ],
   "source": [
    "#Report the average of the top 5 of the calculated ratio.\n",
    "df = df[df['Charge Group Code'].notnull()]\n",
    "df = df[df['Charge Group Code'] != 99]\n",
    "\n",
    "city_charges = df['Charge Group Code'].value_counts(dropna=False).sort_index().values\n",
    "ratios = []\n",
    "for i in range(1,22):\n",
    "    dfarea = df[df['Area ID'] == i]\n",
    "    area_charges = dfarea['Charge Group Code'].value_counts(dropna=False).sort_index().values\n",
    "    \n",
    "    for j in range(len(area_charges)):\n",
    "        n = area_charges[j]/dfarea.shape[0]\n",
    "        m = city_charges[j]/df.shape[0]\n",
    "        ratios.append(n/m)\n",
    "        #print(n/m, j, i)\n",
    "        \n",
    "ratios.sort(reverse=True)\n",
    "np.mean(ratios[0:5])"
   ]
  }
 ],
 "metadata": {
  "kernelspec": {
   "display_name": "Python 3",
   "language": "python",
   "name": "python3"
  },
  "language_info": {
   "codemirror_mode": {
    "name": "ipython",
    "version": 3
   },
   "file_extension": ".py",
   "mimetype": "text/x-python",
   "name": "python",
   "nbconvert_exporter": "python",
   "pygments_lexer": "ipython3",
   "version": "3.7.4"
  }
 },
 "nbformat": 4,
 "nbformat_minor": 2
}
